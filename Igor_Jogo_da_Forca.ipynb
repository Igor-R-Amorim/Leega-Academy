{
  "nbformat": 4,
  "nbformat_minor": 0,
  "metadata": {
    "colab": {
      "provenance": [],
      "toc_visible": true,
      "collapsed_sections": [
        "0fd6DEWtlNhm",
        "sTKPfIr9lRNG",
        "baVmM52hlbcj"
      ],
      "include_colab_link": true
    },
    "kernelspec": {
      "name": "python3",
      "display_name": "Python 3"
    },
    "language_info": {
      "name": "python"
    }
  },
  "cells": [
    {
      "cell_type": "markdown",
      "metadata": {
        "id": "view-in-github",
        "colab_type": "text"
      },
      "source": [
        "<a href=\"https://colab.research.google.com/github/Igor-R-Amorim/Leega-Academy/blob/main/Igor_Jogo_da_Forca.ipynb\" target=\"_parent\"><img src=\"https://colab.research.google.com/assets/colab-badge.svg\" alt=\"Open In Colab\"/></a>"
      ]
    },
    {
      "cell_type": "markdown",
      "source": [
        "notebook: Igor R Amorim"
      ],
      "metadata": {
        "id": "A62nmEZvluS-"
      }
    },
    {
      "cell_type": "markdown",
      "source": [
        "# Exercicio aula2"
      ],
      "metadata": {
        "id": "KrwhPRvFsG57"
      }
    },
    {
      "cell_type": "markdown",
      "source": [
        "## Dicas de palavras e Artes"
      ],
      "metadata": {
        "id": "0fd6DEWtlNhm"
      }
    },
    {
      "cell_type": "code",
      "source": [
        "'''\n",
        "exemplo de palavras compostas: \n",
        "guarda-chuva, \n",
        "bate-boca, \n",
        "caça-níquel,\n",
        "segunda-feira,\n",
        "vice-presidente,\n",
        "abaixo-assinado,\n",
        "abaixo-assinado,\n",
        "pombo-correio,\n",
        "bem-te-vi,\n",
        "tique-taque, \n",
        "tico-tico\n",
        "'''"
      ],
      "metadata": {
        "colab": {
          "base_uri": "https://localhost:8080/",
          "height": 53
        },
        "id": "Xq1SrzVM3C4w",
        "outputId": "5d51e3d3-bf01-4b3a-89be-22d5e12dc987"
      },
      "execution_count": null,
      "outputs": [
        {
          "output_type": "execute_result",
          "data": {
            "text/plain": [
              "'\\nexemplo de palavras compostas: \\nguarda-chuva, \\nbate-boca, \\ncaça-níquel,\\nsegunda-feira,\\nvice-presidente,\\nabaixo-assinado,\\nabaixo-assinado,\\npombo-correio,\\nbem-te-vi,\\ntique-taque, \\ntico-tico\\n'"
            ],
            "application/vnd.google.colaboratory.intrinsic+json": {
              "type": "string"
            }
          },
          "metadata": {},
          "execution_count": 1
        }
      ]
    },
    {
      "cell_type": "code",
      "source": [
        "#Artes disponiveis para livre uso no: \n",
        "''' https://www.asciiart.eu\n",
        "'''"
      ],
      "metadata": {
        "colab": {
          "base_uri": "https://localhost:8080/",
          "height": 35
        },
        "id": "sUNkN0GfchV_",
        "outputId": "c28aba39-0777-4d37-d13c-c75b3d74275b"
      },
      "execution_count": null,
      "outputs": [
        {
          "output_type": "execute_result",
          "data": {
            "text/plain": [
              "' https://www.asciiart.eu\\n'"
            ],
            "application/vnd.google.colaboratory.intrinsic+json": {
              "type": "string"
            }
          },
          "metadata": {},
          "execution_count": 2
        }
      ]
    },
    {
      "cell_type": "markdown",
      "source": [
        "## Instalacao e importação de Bibliotecas"
      ],
      "metadata": {
        "id": "sTKPfIr9lRNG"
      }
    },
    {
      "cell_type": "code",
      "source": [
        "!pip install unidecode"
      ],
      "metadata": {
        "colab": {
          "base_uri": "https://localhost:8080/"
        },
        "id": "H-5OHXapH9Oi",
        "outputId": "c4d8733b-bf61-4707-a57e-b2ebacbbc685"
      },
      "execution_count": null,
      "outputs": [
        {
          "output_type": "stream",
          "name": "stdout",
          "text": [
            "Looking in indexes: https://pypi.org/simple, https://us-python.pkg.dev/colab-wheels/public/simple/\n",
            "Collecting unidecode\n",
            "  Downloading Unidecode-1.3.6-py3-none-any.whl (235 kB)\n",
            "\u001b[2K     \u001b[90m━━━━━━━━━━━━━━━━━━━━━━━━━━━━━━━━━━━━━━━\u001b[0m \u001b[32m235.9/235.9 KB\u001b[0m \u001b[31m4.7 MB/s\u001b[0m eta \u001b[36m0:00:00\u001b[0m\n",
            "\u001b[?25hInstalling collected packages: unidecode\n",
            "Successfully installed unidecode-1.3.6\n"
          ]
        }
      ]
    },
    {
      "cell_type": "code",
      "source": [
        "import random\n",
        "import unidecode\n",
        "import unicodedata\n",
        "import getpass\n",
        "from IPython.core.display import clear_output"
      ],
      "metadata": {
        "id": "fLbg0tdHvxAU"
      },
      "execution_count": null,
      "outputs": []
    },
    {
      "cell_type": "markdown",
      "source": [
        "## Definicao de funcoes do codigo"
      ],
      "metadata": {
        "id": "baVmM52hlbcj"
      }
    },
    {
      "cell_type": "code",
      "source": [
        "def imprime_mensagem_abertura():\n",
        "    print(\"*********************************\")\n",
        "    print(\"***Bem vindo ao jogo da Forca!***\")\n",
        "    print(\"*********************************\")"
      ],
      "metadata": {
        "id": "gLHkHFT3uVLX"
      },
      "execution_count": null,
      "outputs": []
    },
    {
      "cell_type": "code",
      "source": [
        "def carrega_palavra_secreta():\n",
        "  while True:\n",
        "    flag_de_saida = False\n",
        "    palavra = getpass.getpass()\n",
        "    palavra = \" \".join(palavra.upper().split()) #tratar espaços vazios\n",
        "    \n",
        "    palavra_secreta = palavra.split('-') #tratar palavras compostas\n",
        "    for palavra_composta in palavra_secreta:\n",
        "      if palavra_composta.isalpha():\n",
        "        flag_de_saida=True\n",
        "      else:\n",
        "        flag_de_saida=False\n",
        "        print(\"***\")\n",
        "        print(\"Entrada invalida!!!\")\n",
        "        print(\"***\")\n",
        "        print('''\n",
        "A palavra secreta deve ser apenas letras do alfabeto\n",
        "Não será aceito numeros ou caracteres especiais\n",
        "Acentos serão removidos para facilitar os chutes.\n",
        "\n",
        "''')\n",
        "        break\n",
        "    if flag_de_saida:\n",
        "      # remoção de acentos\n",
        "      remover_acento = unicodedata.normalize(\"NFD\", palavra)\n",
        "      remover_acento = remover_acento.encode(\"ascii\", \"ignore\")\n",
        "      remover_acento = remover_acento.decode(\"utf-8\")\n",
        "      palavra_secreta = remover_acento\n",
        "      clear_output(wait=True)\n",
        "      break\n",
        "      \n",
        "  return palavra_secreta"
      ],
      "metadata": {
        "id": "-cai10NGvd6E"
      },
      "execution_count": null,
      "outputs": []
    },
    {
      "cell_type": "code",
      "source": [
        "def pede_dica(palavra_secreta):\n",
        "  while True:\n",
        "    print('''\n",
        "A dica deve ser uma associação com a palavra secreta. \n",
        "Pode ser a categoria em que a plavra esta inserida, ou \n",
        "um sinonimo da palavra ou uma caracteristica daquela palavra.\n",
        "ex. Palavra: \"Leão\", dica: \"possui juba\"\n",
        " \n",
        "A dica não poderá possuir caracteres especiais ou numeros e os espaços deverão\n",
        "ser separados por hifén \"cinquenta-e-um\"\n",
        "\n",
        "''')\n",
        "    dica = input(\"Qual a dica? \")\n",
        "    dica = \" \".join(dica.upper().split()) #tratar espaços vazios\n",
        "    \n",
        "    frase = dica.split('-') #tratar palavras compostas\n",
        "    for palavra_composta in frase:\n",
        "      if palavra_composta.isalpha():\n",
        "        flag_de_saida=True\n",
        "      else:\n",
        "        flag_de_saida=False\n",
        "        print(\"Entrada invalida!!!\")\n",
        "    \n",
        "    if flag_de_saida:\n",
        "      if dica == palavra_secreta.upper():\n",
        "        clear_output(wait=True)\n",
        "        print(\"***\")\n",
        "        print(\"-ERRO: A dica NÃO pode ser igual a PALAVRA SECRETA\")\n",
        "        print(\"***\")\n",
        "        continue\n",
        "      else:\n",
        "        clear_output(wait=True)\n",
        "        break\n",
        "    else:\n",
        "        clear_output(wait=True)\n",
        "        print(\"***\")\n",
        "        print(\"-ERRO: Digite APENAS caracteres AlphaNumericos!\")\n",
        "        print(\"***\")\n",
        "        continue\n",
        "  \n",
        "  return dica"
      ],
      "metadata": {
        "id": "UMEEXX5cDlhY"
      },
      "execution_count": null,
      "outputs": []
    },
    {
      "cell_type": "code",
      "source": [
        "def listar_jogadores():\n",
        "  desafiantes = []\n",
        "  while True:\n",
        "    print('''\n",
        "Jogadores com nome composto deve-se escolher apenas um nome.\n",
        "ex.: João Victor, escolher ou joão ou Victor\n",
        "\n",
        "Acento não faz distinção no nome, portanto o jogador Jose = José\n",
        "\n",
        "Jogadores com nomes iguais deve-se escolher o sobrenome distinto.\n",
        "ex.: João da Silva Vitorino\n",
        "     João da Silva Rodrigues\n",
        "Desafiantes: Vitorino, Rodrigues.\n",
        "\n",
        "''')\n",
        "    nome = input(\"indique um desafiante: \")\n",
        "    nome = nome.strip().upper()\n",
        "    if nome.isalpha():\n",
        "      remover_acento = unicodedata.normalize(\"NFD\", nome)\n",
        "      remover_acento = remover_acento.encode(\"ascii\", \"ignore\")\n",
        "      remover_acento = remover_acento.decode(\"utf-8\")\n",
        "      nome = remover_acento\n",
        "      if nome in desafiantes:\n",
        "        clear_output(wait=True)\n",
        "        print(\"***\")\n",
        "        print(\"-ERRO: Por favor, selecione outro Jogador!\")\n",
        "        print(\"***\")\n",
        "        continue\n",
        "      else:\n",
        "        desafiantes.append(nome)\n",
        "        if len(desafiantes)<5:\n",
        "          clear_output(wait=True)\n",
        "          continue\n",
        "        else:\n",
        "          clear_output(wait=True)\n",
        "          break\n",
        "    \n",
        "    else:\n",
        "        clear_output(wait=True)\n",
        "        print(\"***\")\n",
        "        print(\"-ERRO: Digite apenas caracteres AlphaNumericos!\")\n",
        "        print(\"***\")\n",
        "        continue\n",
        "  return desafiantes"
      ],
      "metadata": {
        "id": "Pzy-1ZgURwOb"
      },
      "execution_count": null,
      "outputs": []
    },
    {
      "cell_type": "code",
      "source": [
        "def inicializa_letras_acertadas(palavra):\n",
        "  palavra_mascarada=[]\n",
        "  for i in range(len(palavra)):\n",
        "    if palavra[i] == \"-\":\n",
        "      palavra_mascarada.append(\"-\")\n",
        "    else:\n",
        "      palavra_mascarada.append(\"*\")  \n",
        "  return palavra_mascarada "
      ],
      "metadata": {
        "id": "EnkM0udtMqw1"
      },
      "execution_count": null,
      "outputs": []
    },
    {
      "cell_type": "code",
      "source": [
        "def pede_chute(tentativas):\n",
        "  while True:\n",
        "    chute = input(\"Qual letra? \")\n",
        "    chute = chute.strip().upper()\n",
        "    if chute.isalpha():\n",
        "      if len(chute)>1:\n",
        "        print(\"tente UMA letra!\\n\")\n",
        "        continue\n",
        "      else:\n",
        "        remover_acento = unicodedata.normalize(\"NFD\", chute)\n",
        "        remover_acento = remover_acento.encode(\"ascii\", \"ignore\")\n",
        "        remover_acento = remover_acento.decode(\"utf-8\")\n",
        "        palpite = remover_acento\n",
        "        if palpite in tentativas:\n",
        "          print(\"Você já tentou essa letra\\n\")\n",
        "          continue\n",
        "        else: \n",
        "          break\n",
        "    else:\n",
        "        print(\"Digite apenas caracteres AlphaNumericos!\\n\")\n",
        "        continue\n",
        "  return palpite"
      ],
      "metadata": {
        "id": "XHjyTTZ1vcJY"
      },
      "execution_count": null,
      "outputs": []
    },
    {
      "cell_type": "code",
      "source": [
        "def marca_chute_correto(chute, letras_acertadas, palavra_secreta):\n",
        "    index = 0\n",
        "    for index, letra in enumerate(palavra_secreta):\n",
        "        if (chute == letra):\n",
        "            letras_acertadas[index] = letra"
      ],
      "metadata": {
        "id": "yDj6G7bauKKD"
      },
      "execution_count": null,
      "outputs": []
    },
    {
      "cell_type": "code",
      "source": [
        "def desenha_forca(erros):\n",
        "  print(\"  _______     \")\n",
        "  print(\" |/      |    \")\n",
        "\n",
        "  if(erros == 1):\n",
        "    print (\" |      (_)   \")\n",
        "    print (\" |            \")\n",
        "    print (\" |            \")\n",
        "    print (\" |            \")\n",
        "\n",
        "  if(erros == 2):\n",
        "    print (\" |      (_)   \")\n",
        "    print (\" |      \\     \")\n",
        "    print (\" |            \")\n",
        "    print (\" |            \")\n",
        "\n",
        "  if(erros == 3):\n",
        "    print (\" |      (_)   \")\n",
        "    print (\" |      \\|    \")\n",
        "    print (\" |            \")\n",
        "    print (\" |            \")\n",
        "\n",
        "  if(erros == 4):\n",
        "    print (\" |      (_)   \")\n",
        "    print (\" |      \\|/   \")\n",
        "    print (\" |            \")\n",
        "    print (\" |            \")\n",
        "\n",
        "  if(erros == 5):\n",
        "    print (\" |      (_)   \")\n",
        "    print (\" |      \\|/   \")\n",
        "    print (\" |       |    \")\n",
        "    print (\" |            \")\n",
        "\n",
        "  if(erros == 6):\n",
        "    print (\" |      (_)   \")\n",
        "    print (\" |      \\|/   \")\n",
        "    print (\" |       |    \")\n",
        "    print (\" |      /     \")\n",
        "\n",
        "  if (erros == 7):\n",
        "    print (\" |      (_)   \")\n",
        "    print (\" |      \\|/   \")\n",
        "    print (\" |       |    \")\n",
        "    print (\" |      / \\   \")\n",
        "\n",
        "  print(\" |            \")\n",
        "  print(\"_|___         \")\n",
        "  print()"
      ],
      "metadata": {
        "id": "69YL1Kw2t5QR"
      },
      "execution_count": null,
      "outputs": []
    },
    {
      "cell_type": "code",
      "source": [
        "def imprime_mensagem_vencedor():\n",
        "  print()\n",
        "  print(\"Parabéns, você ganhou!\")\n",
        "  print(\"       ___________      \")\n",
        "  print(\"      '._==_==_=_.'     \")\n",
        "  print(\"      .-\\\\:      /-.    \")\n",
        "  print(\"     | (|:.     |) |    \")\n",
        "  print(\"      '-|:.     |-'     \")\n",
        "  print(\"        \\\\::.    /      \")\n",
        "  print(\"         '::. .'        \")\n",
        "  print(\"           ) (          \")\n",
        "  print(\"         _.' '._        \")\n",
        "  print(\"        '-------'       \")"
      ],
      "metadata": {
        "id": "KUNDti-_uCVu"
      },
      "execution_count": null,
      "outputs": []
    },
    {
      "cell_type": "code",
      "source": [
        "def imprime_mensagem_perdedor(palavra_secreta):\n",
        "    print()\n",
        "    print(\"Que pena, você foi enforcado!\")\n",
        "    print(\"A palavra era {}\".format(palavra_secreta))\n",
        "    print()\n",
        "    print(\"       _______________       \")\n",
        "    print(\"      /               \\      \")\n",
        "    print(\"     /                 \\     \")\n",
        "    print(\"  /\\/                   \\/\\  \")\n",
        "    print(\"  \\ |   XXXX     XXXX   | /  \")\n",
        "    print(\"   \\|   XXXX     XXXX   |/   \")\n",
        "    print(\"    |   XXX       XXX   |    \")\n",
        "    print(\"    |                   |    \")\n",
        "    print(\"    \\__      XXX      __/    \")\n",
        "    print(\"      |\\     XXX     /|      \")\n",
        "    print(\"      | |           | |      \")\n",
        "    print(\"      | I I I I I I I |      \")\n",
        "    print(\"      |  I I I I I I  |      \")\n",
        "    print(\"      \\_             _/      \")\n",
        "    print(\"        \\_         _/        \")\n",
        "    print(\"          \\_______/          \")"
      ],
      "metadata": {
        "id": "KcDXWqrSuHdv"
      },
      "execution_count": null,
      "outputs": []
    },
    {
      "cell_type": "markdown",
      "source": [
        "## Codigo Principal"
      ],
      "metadata": {
        "id": "dG4e5mvblpIz"
      }
    },
    {
      "cell_type": "code",
      "source": [
        "imprime_mensagem_abertura()\n",
        "print(\"---    Área de organizador    ---\")\n",
        "print(\"---------------------------------\")\n",
        "print()\n",
        "print('''\n",
        "A palavra secreta deve ser apenas letras do alfabeto\n",
        "Não será aceito numeros ou caracteres especiais\n",
        "Acentos serão removidos para facilitar os chutes.\n",
        "\n",
        "''')\n",
        "print(\"escolha uma palavra secreta: \") \n",
        "palavra_secreta = carrega_palavra_secreta()\n",
        "\n",
        "print(\"escolha uma dica da palavra secreta: \")\n",
        "dica = pede_dica(palavra_secreta)\n",
        "\n",
        "print(\"digite 5 desafiantes para sortear apenas 1 jogador: \")\n",
        "desafiantes = listar_jogadores()\n",
        "\n",
        "\n",
        "sorteio = random.randint(1, len(desafiantes))\n",
        "jogador = desafiantes[sorteio-1]\n",
        "\n",
        "#-------------------------------------------------------------------------------\n",
        "print(f\"o jogador selecionado foi: {jogador}\\n\")\n",
        "imprime_mensagem_abertura()\n",
        "print(\"---      Área de jogador      ---\")\n",
        "print(\"---------------------------------\")\n",
        "print()\n",
        "\n",
        "letras_acertadas = inicializa_letras_acertadas(palavra_secreta)\n",
        "print(letras_acertadas)\n",
        "print(dica)\n",
        "\n",
        "enforcou = False\n",
        "acertou = False\n",
        "erros = 0\n",
        "tentativas = []\n",
        "\n",
        "while(not enforcou and not acertou):\n",
        "    \n",
        "    chute = pede_chute(tentativas)\n",
        "    tentativas.append(chute)\n",
        "    \n",
        "    if(chute in palavra_secreta):\n",
        "        marca_chute_correto(chute, letras_acertadas, palavra_secreta)\n",
        "    else:\n",
        "        erros += 1\n",
        "\n",
        "    enforcou = (erros == 7)\n",
        "    acertou = (\"*\" not in letras_acertadas)\n",
        "\n",
        "    clear_output(wait=True)\n",
        "    print(f\"o jogador selecionado foi: {jogador}\\n\")\n",
        "    imprime_mensagem_abertura()\n",
        "    print(\"---      Área de jogador      ---\")\n",
        "    print(\"---------------------------------\")\n",
        "    print()\n",
        "    desenha_forca(erros)\n",
        "    print(letras_acertadas)\n",
        "    print(f\"dica da palavra: {dica}\")\n",
        "    print(f\"tentativas: {tentativas}\\n\")\n",
        "\n",
        "if(acertou):\n",
        "    imprime_mensagem_vencedor()\n",
        "else:\n",
        "    imprime_mensagem_perdedor(palavra_secreta)\n"
      ],
      "metadata": {
        "colab": {
          "base_uri": "https://localhost:8080/"
        },
        "id": "5uWnDOJfurlY",
        "outputId": "118b1334-eb62-4ca9-8040-9d3c30c5e6fb"
      },
      "execution_count": null,
      "outputs": [
        {
          "output_type": "stream",
          "name": "stdout",
          "text": [
            "o jogador selecionado foi: LUIZ\n",
            "\n",
            "*********************************\n",
            "***Bem vindo ao jogo da Forca!***\n",
            "*********************************\n",
            "---      Área de jogador      ---\n",
            "---------------------------------\n",
            "\n",
            "  _______     \n",
            " |/      |    \n",
            " |      (_)   \n",
            " |      \\|/   \n",
            " |       |    \n",
            " |      / \\   \n",
            " |            \n",
            "_|___         \n",
            "\n",
            "['*', 'A', '*', 'A']\n",
            "dica da palavra: FRUTA\n",
            "tentativas: ['A', 'S', 'D', 'G', 'H', 'K', 'L', 'Z']\n",
            "\n",
            "\n",
            "Que pena, você foi enforcado!\n",
            "A palavra era JACA\n",
            "\n",
            "       _______________       \n",
            "      /               \\      \n",
            "     /                 \\     \n",
            "  /\\/                   \\/\\  \n",
            "  \\ |   XXXX     XXXX   | /  \n",
            "   \\|   XXXX     XXXX   |/   \n",
            "    |   XXX       XXX   |    \n",
            "    |                   |    \n",
            "    \\__      XXX      __/    \n",
            "      |\\     XXX     /|      \n",
            "      | |           | |      \n",
            "      | I I I I I I I |      \n",
            "      |  I I I I I I  |      \n",
            "      \\_             _/      \n",
            "        \\_         _/        \n",
            "          \\_______/          \n"
          ]
        }
      ]
    },
    {
      "cell_type": "code",
      "source": [],
      "metadata": {
        "id": "V3lf-h1sgSlK"
      },
      "execution_count": null,
      "outputs": []
    }
  ]
}